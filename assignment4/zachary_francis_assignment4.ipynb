{
 "cells": [
  {
   "cell_type": "markdown",
   "id": "a48557e0-425a-4c92-b140-8639fc764c9c",
   "metadata": {},
   "source": [
    "# Assignment 4\n",
    "\n",
    "## Part 1: Data Exploration\n",
    "1. Read in bike_share_hour.csv as a pandas dataframe.\n",
    "1. Look at the dataset, and convert the columns that are categorical to a pandas “category” type.\n",
    "1. Calculate non-null values in each variable in the dataset.\n",
    "1. Do a descriptive analysis of the numeric columns.\n",
    "1. Implement code to figure out which months belong to which seasons.\n",
    "1. Implement a bar plot of cnt versus season. Document which season has the most bike rides and which season has the least.\n",
    "1. Implement a bar chart for working day versus count. Document how bike rides are distributed across these two classes.\n",
    "1. Implement a bar chart for month versus count. Document which months have the most bike rides.\n",
    "1. Implement a bar plot of weathersit versus cnt. Document which weather situation has less bike rentals.\n",
    "1. Implement a point plot of weathersit on the x-axis, count on the y-axis, and the season as the hue. Document how season and weathersit are related.\n",
    "1. Implement a bar plot of hour versus count. Are there any specific hours that are busier than others?\n",
    "1. Implement a bar plot of hour versus count on weekends and holidays (when workingday = 0). Does the hourly trend change on weekends?"
   ]
  },
  {
   "cell_type": "code",
   "execution_count": 1,
   "id": "a12d1c23-5720-4310-b0f1-157d5539de76",
   "metadata": {},
   "outputs": [
    {
     "data": {
      "text/plain": [
       "instant          int64\n",
       "dteday          object\n",
       "season        category\n",
       "yr            category\n",
       "mnth          category\n",
       "hr            category\n",
       "holiday           bool\n",
       "weekday       category\n",
       "workingday        bool\n",
       "weathersit    category\n",
       "temp           float64\n",
       "atemp          float64\n",
       "hum            float64\n",
       "windspeed      float64\n",
       "casual           int64\n",
       "registered       int64\n",
       "cnt              int64\n",
       "dtype: object"
      ]
     },
     "execution_count": 1,
     "metadata": {},
     "output_type": "execute_result"
    }
   ],
   "source": [
    "import numpy as np\n",
    "import pandas as pd\n",
    "import matplotlib.pyplot as plt\n",
    "import seaborn as sns\n",
    "\n",
    "bike_share = pd.read_csv(r'https://raw.githubusercontent.com/arjayit/cs4432_data/master/bike_share_hour.csv')\n",
    "\n",
    "# Convert Categorical and Boolean types\n",
    "bike_share[['season', 'yr', 'mnth', 'hr', 'weekday', 'weathersit']] = \\\n",
    "bike_share[['season', 'yr', 'mnth', 'hr', 'weekday', 'weathersit']].astype('category')\n",
    "bike_share[['holiday', 'workingday']] = bike_share[['holiday', 'workingday']].astype('bool')\n",
    "bike_share.dtypes"
   ]
  },
  {
   "cell_type": "code",
   "execution_count": 2,
   "id": "d11a1ad3-e63a-44aa-a8a8-2e89801db66e",
   "metadata": {},
   "outputs": [
    {
     "data": {
      "text/plain": [
       "instant       0\n",
       "dteday        0\n",
       "season        0\n",
       "yr            0\n",
       "mnth          0\n",
       "hr            0\n",
       "holiday       0\n",
       "weekday       0\n",
       "workingday    0\n",
       "weathersit    0\n",
       "temp          0\n",
       "atemp         0\n",
       "hum           0\n",
       "windspeed     0\n",
       "casual        0\n",
       "registered    0\n",
       "cnt           0\n",
       "dtype: int64"
      ]
     },
     "execution_count": 2,
     "metadata": {},
     "output_type": "execute_result"
    }
   ],
   "source": [
    "# Calculate the null values per variable\n",
    "bike_share.isnull().sum()"
   ]
  },
  {
   "cell_type": "markdown",
   "id": "58b35237-7e8e-41e1-810b-57f763761973",
   "metadata": {},
   "source": [
    "There are no null values in any of the variables."
   ]
  },
  {
   "cell_type": "code",
   "execution_count": 3,
   "id": "08f408ce-84be-42ad-b8ce-afeea66dddb8",
   "metadata": {},
   "outputs": [
    {
     "data": {
      "text/html": [
       "<div>\n",
       "<style scoped>\n",
       "    .dataframe tbody tr th:only-of-type {\n",
       "        vertical-align: middle;\n",
       "    }\n",
       "\n",
       "    .dataframe tbody tr th {\n",
       "        vertical-align: top;\n",
       "    }\n",
       "\n",
       "    .dataframe thead th {\n",
       "        text-align: right;\n",
       "    }\n",
       "</style>\n",
       "<table border=\"1\" class=\"dataframe\">\n",
       "  <thead>\n",
       "    <tr style=\"text-align: right;\">\n",
       "      <th></th>\n",
       "      <th>count</th>\n",
       "      <th>mean</th>\n",
       "      <th>std</th>\n",
       "      <th>min</th>\n",
       "      <th>25%</th>\n",
       "      <th>50%</th>\n",
       "      <th>75%</th>\n",
       "      <th>max</th>\n",
       "    </tr>\n",
       "  </thead>\n",
       "  <tbody>\n",
       "    <tr>\n",
       "      <th>instant</th>\n",
       "      <td>17379.0</td>\n",
       "      <td>8690.000000</td>\n",
       "      <td>5017.029500</td>\n",
       "      <td>1.00</td>\n",
       "      <td>4345.5000</td>\n",
       "      <td>8690.0000</td>\n",
       "      <td>13034.5000</td>\n",
       "      <td>17379.0000</td>\n",
       "    </tr>\n",
       "    <tr>\n",
       "      <th>temp</th>\n",
       "      <td>17379.0</td>\n",
       "      <td>0.496987</td>\n",
       "      <td>0.192556</td>\n",
       "      <td>0.02</td>\n",
       "      <td>0.3400</td>\n",
       "      <td>0.5000</td>\n",
       "      <td>0.6600</td>\n",
       "      <td>1.0000</td>\n",
       "    </tr>\n",
       "    <tr>\n",
       "      <th>atemp</th>\n",
       "      <td>17379.0</td>\n",
       "      <td>0.475775</td>\n",
       "      <td>0.171850</td>\n",
       "      <td>0.00</td>\n",
       "      <td>0.3333</td>\n",
       "      <td>0.4848</td>\n",
       "      <td>0.6212</td>\n",
       "      <td>1.0000</td>\n",
       "    </tr>\n",
       "    <tr>\n",
       "      <th>hum</th>\n",
       "      <td>17379.0</td>\n",
       "      <td>0.627229</td>\n",
       "      <td>0.192930</td>\n",
       "      <td>0.00</td>\n",
       "      <td>0.4800</td>\n",
       "      <td>0.6300</td>\n",
       "      <td>0.7800</td>\n",
       "      <td>1.0000</td>\n",
       "    </tr>\n",
       "    <tr>\n",
       "      <th>windspeed</th>\n",
       "      <td>17379.0</td>\n",
       "      <td>0.190098</td>\n",
       "      <td>0.122340</td>\n",
       "      <td>0.00</td>\n",
       "      <td>0.1045</td>\n",
       "      <td>0.1940</td>\n",
       "      <td>0.2537</td>\n",
       "      <td>0.8507</td>\n",
       "    </tr>\n",
       "    <tr>\n",
       "      <th>casual</th>\n",
       "      <td>17379.0</td>\n",
       "      <td>35.676218</td>\n",
       "      <td>49.305030</td>\n",
       "      <td>0.00</td>\n",
       "      <td>4.0000</td>\n",
       "      <td>17.0000</td>\n",
       "      <td>48.0000</td>\n",
       "      <td>367.0000</td>\n",
       "    </tr>\n",
       "    <tr>\n",
       "      <th>registered</th>\n",
       "      <td>17379.0</td>\n",
       "      <td>153.786869</td>\n",
       "      <td>151.357286</td>\n",
       "      <td>0.00</td>\n",
       "      <td>34.0000</td>\n",
       "      <td>115.0000</td>\n",
       "      <td>220.0000</td>\n",
       "      <td>886.0000</td>\n",
       "    </tr>\n",
       "    <tr>\n",
       "      <th>cnt</th>\n",
       "      <td>17379.0</td>\n",
       "      <td>189.463088</td>\n",
       "      <td>181.387599</td>\n",
       "      <td>1.00</td>\n",
       "      <td>40.0000</td>\n",
       "      <td>142.0000</td>\n",
       "      <td>281.0000</td>\n",
       "      <td>977.0000</td>\n",
       "    </tr>\n",
       "  </tbody>\n",
       "</table>\n",
       "</div>"
      ],
      "text/plain": [
       "              count         mean          std   min        25%        50%  \\\n",
       "instant     17379.0  8690.000000  5017.029500  1.00  4345.5000  8690.0000   \n",
       "temp        17379.0     0.496987     0.192556  0.02     0.3400     0.5000   \n",
       "atemp       17379.0     0.475775     0.171850  0.00     0.3333     0.4848   \n",
       "hum         17379.0     0.627229     0.192930  0.00     0.4800     0.6300   \n",
       "windspeed   17379.0     0.190098     0.122340  0.00     0.1045     0.1940   \n",
       "casual      17379.0    35.676218    49.305030  0.00     4.0000    17.0000   \n",
       "registered  17379.0   153.786869   151.357286  0.00    34.0000   115.0000   \n",
       "cnt         17379.0   189.463088   181.387599  1.00    40.0000   142.0000   \n",
       "\n",
       "                   75%         max  \n",
       "instant     13034.5000  17379.0000  \n",
       "temp            0.6600      1.0000  \n",
       "atemp           0.6212      1.0000  \n",
       "hum             0.7800      1.0000  \n",
       "windspeed       0.2537      0.8507  \n",
       "casual         48.0000    367.0000  \n",
       "registered    220.0000    886.0000  \n",
       "cnt           281.0000    977.0000  "
      ]
     },
     "execution_count": 3,
     "metadata": {},
     "output_type": "execute_result"
    }
   ],
   "source": [
    "bike_share_nums = bike_share.select_dtypes(include=['int64', 'float64'])\n",
    "bike_share_nums.describe().T"
   ]
  },
  {
   "cell_type": "markdown",
   "id": "5e1681bb-30c0-4911-afd3-2001b0c736a1",
   "metadata": {},
   "source": [
    "The descriptive statistics above show that all of the weather stats are normalized so the minimumn is 0 and the maximum is 1 (although there seems to be a discrepancy with windspeed).  The mean and median of these features are fairly close, so these appear to have a normal distribution with a slight skew to the left.  The user counts are not standardized at all, which is fine given that it's the target, and each count is skewed to the right."
   ]
  },
  {
   "cell_type": "code",
   "execution_count": 4,
   "id": "68ad04f5-feaa-4bfc-896e-1e8fdc17acbc",
   "metadata": {},
   "outputs": [
    {
     "data": {
      "text/plain": [
       "season\n",
       "1    [1, 2, 3, 12]\n",
       "Categories (12, int64): [1, 2, 3...\n",
       "2    [3, 4, 5, 6]\n",
       "Categories (12, int64): [1, 2, 3,...\n",
       "3    [6, 7, 8, 9]\n",
       "Categories (12, int64): [1, 2, 3,...\n",
       "4    [9, 10, 11, 12]\n",
       "Categories (12, int64): [1, 2,...\n",
       "Name: mnth, dtype: object"
      ]
     },
     "execution_count": 4,
     "metadata": {},
     "output_type": "execute_result"
    }
   ],
   "source": [
    "# Which month belongs to which season\n",
    "bike_share.groupby(by='season', observed=True)['mnth'].unique()"
   ]
  },
  {
   "cell_type": "markdown",
   "id": "4a3d1611-e926-484a-8a4e-6c57d2103323",
   "metadata": {},
   "source": [
    "Season 1 (Winter) has months 1, 2, 3, 12.  \n",
    "Season 2 (Spring) has months 3, 4, 5, 6.  \n",
    "Season 3 (Summer) has months 6, 7, 8, 9.  \n",
    "Season 4 (Fall) has months 9, 10, 11, 12."
   ]
  },
  {
   "cell_type": "code",
   "execution_count": 5,
   "id": "0686fd89-69c0-4d48-84bb-efc21480c371",
   "metadata": {},
   "outputs": [
    {
     "data": {
      "text/plain": [
       "<Axes: xlabel='season', ylabel='cnt'>"
      ]
     },
     "execution_count": 5,
     "metadata": {},
     "output_type": "execute_result"
    },
    {
     "data": {
      "image/png": "[encoded data removed]",
      "text/plain": [
       "<Figure size 640x480 with 1 Axes>"
      ]
     },
     "metadata": {},
     "output_type": "display_data"
    }
   ],
   "source": [
    "# Implement a bar plot of Season vs Count\n",
    "sns.barplot(data=bike_share, x='season', y='cnt')"
   ]
  },
  {
   "cell_type": "markdown",
   "id": "0f9787d2-3e6e-4bf3-a340-ae408ad1e44f",
   "metadata": {},
   "source": [
    "Winter has the least amount of bike rides, while Summer has the most, which makes intuitive sense."
   ]
  },
  {
   "cell_type": "code",
   "execution_count": 6,
   "id": "ac38ec6f-9be9-446f-bff6-9baebf2fd0c6",
   "metadata": {},
   "outputs": [
    {
     "data": {
      "text/plain": [
       "<Axes: xlabel='workingday', ylabel='cnt'>"
      ]
     },
     "execution_count": 6,
     "metadata": {},
     "output_type": "execute_result"
    },
    {
     "data": {
      "image/png": "[encoded data removed]",
      "text/plain": [
       "<Figure size 640x480 with 1 Axes>"
      ]
     },
     "metadata": {},
     "output_type": "display_data"
    }
   ],
   "source": [
    "# Implement a bar chart for working day versus count.\n",
    "sns.barplot(data=bike_share, x='workingday', y='cnt')"
   ]
  },
  {
   "cell_type": "markdown",
   "id": "1abc135a-f546-4563-9d94-26b531c88b54",
   "metadata": {},
   "source": [
    "The bar plot shows that on average there are less bike rentals on weekends and holidays than during weekdays."
   ]
  },
  {
   "cell_type": "code",
   "execution_count": 7,
   "id": "0521dd1b-0cea-48d1-b2df-d543155e2333",
   "metadata": {},
   "outputs": [
    {
     "data": {
      "text/plain": [
       "<Axes: xlabel='mnth', ylabel='cnt'>"
      ]
     },
     "execution_count": 7,
     "metadata": {},
     "output_type": "execute_result"
    },
    {
     "data": {
      "image/png": "[encoded data removed]",
      "text/plain": [
       "<Figure size 640x480 with 1 Axes>"
      ]
     },
     "metadata": {},
     "output_type": "display_data"
    }
   ],
   "source": [
    "# Implement a bar chart for month versus count.\n",
    "sns.barplot(data=bike_share, x='mnth', y='cnt')"
   ]
  },
  {
   "cell_type": "markdown",
   "id": "241f166d-ac13-4b27-86e4-652770ff1bfa",
   "metadata": {},
   "source": [
    "The summer months see the most biek rentals, with the top months being June and September."
   ]
  },
  {
   "cell_type": "code",
   "execution_count": 8,
   "id": "6a717df8-4ba7-48d7-b5fc-0f38e4617088",
   "metadata": {},
   "outputs": [
    {
     "data": {
      "text/plain": [
       "<Axes: xlabel='weathersit', ylabel='cnt'>"
      ]
     },
     "execution_count": 8,
     "metadata": {},
     "output_type": "execute_result"
    },
    {
     "data": {
      "image/png": "[encoded data removed]",
      "text/plain": [
       "<Figure size 640x480 with 1 Axes>"
      ]
     },
     "metadata": {},
     "output_type": "display_data"
    }
   ],
   "source": [
    "# Implement a bar plot of weathersit versus cnt.\n",
    "sns.barplot(data=bike_share, x='weathersit', y='cnt')"
   ]
  },
  {
   "cell_type": "markdown",
   "id": "4a024a87-735a-45fb-8db3-4f270176719a",
   "metadata": {},
   "source": [
    "Intuitively, there are far less bike rentals on average in extreme weather conditions such as a thunderstorm.  The large error bar suggests there are only a few data points for a `weathersit` of 4."
   ]
  },
  {
   "cell_type": "code",
   "execution_count": 9,
   "id": "a93033b1-bc6e-40e6-9f16-dfe62cb259eb",
   "metadata": {},
   "outputs": [
    {
     "data": {
      "text/plain": [
       "<Axes: xlabel='weathersit', ylabel='cnt'>"
      ]
     },
     "execution_count": 9,
     "metadata": {},
     "output_type": "execute_result"
    },
    {
     "data": {
      "image/png": "[encoded data removed]",
      "text/plain": [
       "<Figure size 640x480 with 1 Axes>"
      ]
     },
     "metadata": {},
     "output_type": "display_data"
    }
   ],
   "source": [
    "# Implement a point plot of weathersit on the x-axis, count on the y-axis, and the season as the hue. \n",
    "sns.pointplot(data=bike_share, x='weathersit', y='cnt', hue='season')"
   ]
  },
  {
   "cell_type": "markdown",
   "id": "046ef780-126b-4c5b-b142-8712524e5fd8",
   "metadata": {},
   "source": [
    "All four seasons have bike rentals for the first three weather conditions, and each season has a downward trend in bike rentals as the weather worsens.  Winter is the only season in which there were bike rentals during the worst weather conditions.  There is a shallow decrease in bike rentals in Fall when between when the weather is clear and when the weather is misty, but there is a sharp decrease from misty to precipitation."
   ]
  },
  {
   "cell_type": "code",
   "execution_count": 10,
   "id": "b1e1832c-6081-424b-b1d7-e1f78a302057",
   "metadata": {},
   "outputs": [
    {
     "data": {
      "text/plain": [
       "<Axes: xlabel='hr', ylabel='cnt'>"
      ]
     },
     "execution_count": 10,
     "metadata": {},
     "output_type": "execute_result"
    },
    {
     "data": {
      "image/png": "[encoded data removed]",
      "text/plain": [
       "<Figure size 640x480 with 1 Axes>"
      ]
     },
     "metadata": {},
     "output_type": "display_data"
    }
   ],
   "source": [
    "# Implement a bar plot of hour versus count. \n",
    "sns.barplot(data=bike_share, x='hr', y='cnt')"
   ]
  },
  {
   "cell_type": "markdown",
   "id": "87b3293d-eeed-4f2a-a1b4-03aa62b1c26e",
   "metadata": {},
   "source": [
    "The evening hours, 5 and 6 PM, have the most bike rentals on average. There is a spike at 8AM as well."
   ]
  },
  {
   "cell_type": "code",
   "execution_count": 11,
   "id": "8a66f3db-8fd1-49dd-9de9-96e120bd999b",
   "metadata": {},
   "outputs": [
    {
     "data": {
      "text/plain": [
       "<Axes: xlabel='hr', ylabel='cnt'>"
      ]
     },
     "execution_count": 11,
     "metadata": {},
     "output_type": "execute_result"
    },
    {
     "data": {
      "image/png": "[encoded data removed]",
      "text/plain": [
       "<Figure size 640x480 with 1 Axes>"
      ]
     },
     "metadata": {},
     "output_type": "display_data"
    }
   ],
   "source": [
    "# Implement a bar plot of hour versus count on weekends and holidays (when workingday = 0)\n",
    "sns.barplot(data=bike_share, x='hr', y='cnt', hue='workingday')"
   ]
  },
  {
   "cell_type": "markdown",
   "id": "9b0d5cb8-a1e2-434d-af7a-b5ecacefefa9",
   "metadata": {},
   "source": [
    "For weekdays, bike rentals occur most often in the evening at 5 PM and in the morning at 8 AM.  On weekends and holidays, bike rentals happend most often in the afternoon, betweem 12 and 2 PM.\n",
    "\n",
    "## Part 2: Data Preperation\n",
    "- Implement and graph a correlation matrix with the remaining numeric features. Any interesting relationships?\n",
    "- Scale the numerical features using StandardScaler(), and replace the original columns in your dataframe.\n",
    "- Drop the following columns from your dataset: casual, registered, dteday, instant.\n",
    "- Implement a histogram of the count column. What can be said based on the resulting distribution?\n",
    "- Implement a train/test split with a test size of 33%.\n",
    "- Implement a baseline linear regression algorithm. Use cross-validation to output r2 and mse. Calculate RMSE base on mse."
   ]
  },
  {
   "cell_type": "code",
   "execution_count": 12,
   "id": "74fcaf94-ce7d-48af-ae50-8ef74cb3744f",
   "metadata": {},
   "outputs": [
    {
     "data": {
      "text/html": [
       "<div>\n",
       "<style scoped>\n",
       "    .dataframe tbody tr th:only-of-type {\n",
       "        vertical-align: middle;\n",
       "    }\n",
       "\n",
       "    .dataframe tbody tr th {\n",
       "        vertical-align: top;\n",
       "    }\n",
       "\n",
       "    .dataframe thead th {\n",
       "        text-align: right;\n",
       "    }\n",
       "</style>\n",
       "<table border=\"1\" class=\"dataframe\">\n",
       "  <thead>\n",
       "    <tr style=\"text-align: right;\">\n",
       "      <th></th>\n",
       "      <th>instant</th>\n",
       "      <th>temp</th>\n",
       "      <th>atemp</th>\n",
       "      <th>hum</th>\n",
       "      <th>windspeed</th>\n",
       "      <th>casual</th>\n",
       "      <th>registered</th>\n",
       "      <th>cnt</th>\n",
       "    </tr>\n",
       "  </thead>\n",
       "  <tbody>\n",
       "    <tr>\n",
       "      <th>instant</th>\n",
       "      <td>1.000000</td>\n",
       "      <td>0.136178</td>\n",
       "      <td>0.137615</td>\n",
       "      <td>0.009577</td>\n",
       "      <td>-0.074505</td>\n",
       "      <td>0.158295</td>\n",
       "      <td>0.282046</td>\n",
       "      <td>0.278379</td>\n",
       "    </tr>\n",
       "    <tr>\n",
       "      <th>temp</th>\n",
       "      <td>0.136178</td>\n",
       "      <td>1.000000</td>\n",
       "      <td>0.987672</td>\n",
       "      <td>-0.069881</td>\n",
       "      <td>-0.023125</td>\n",
       "      <td>0.459616</td>\n",
       "      <td>0.335361</td>\n",
       "      <td>0.404772</td>\n",
       "    </tr>\n",
       "    <tr>\n",
       "      <th>atemp</th>\n",
       "      <td>0.137615</td>\n",
       "      <td>0.987672</td>\n",
       "      <td>1.000000</td>\n",
       "      <td>-0.051918</td>\n",
       "      <td>-0.062336</td>\n",
       "      <td>0.454080</td>\n",
       "      <td>0.332559</td>\n",
       "      <td>0.400929</td>\n",
       "    </tr>\n",
       "    <tr>\n",
       "      <th>hum</th>\n",
       "      <td>0.009577</td>\n",
       "      <td>-0.069881</td>\n",
       "      <td>-0.051918</td>\n",
       "      <td>1.000000</td>\n",
       "      <td>-0.290105</td>\n",
       "      <td>-0.347028</td>\n",
       "      <td>-0.273933</td>\n",
       "      <td>-0.322911</td>\n",
       "    </tr>\n",
       "    <tr>\n",
       "      <th>windspeed</th>\n",
       "      <td>-0.074505</td>\n",
       "      <td>-0.023125</td>\n",
       "      <td>-0.062336</td>\n",
       "      <td>-0.290105</td>\n",
       "      <td>1.000000</td>\n",
       "      <td>0.090287</td>\n",
       "      <td>0.082321</td>\n",
       "      <td>0.093234</td>\n",
       "    </tr>\n",
       "    <tr>\n",
       "      <th>casual</th>\n",
       "      <td>0.158295</td>\n",
       "      <td>0.459616</td>\n",
       "      <td>0.454080</td>\n",
       "      <td>-0.347028</td>\n",
       "      <td>0.090287</td>\n",
       "      <td>1.000000</td>\n",
       "      <td>0.506618</td>\n",
       "      <td>0.694564</td>\n",
       "    </tr>\n",
       "    <tr>\n",
       "      <th>registered</th>\n",
       "      <td>0.282046</td>\n",
       "      <td>0.335361</td>\n",
       "      <td>0.332559</td>\n",
       "      <td>-0.273933</td>\n",
       "      <td>0.082321</td>\n",
       "      <td>0.506618</td>\n",
       "      <td>1.000000</td>\n",
       "      <td>0.972151</td>\n",
       "    </tr>\n",
       "    <tr>\n",
       "      <th>cnt</th>\n",
       "      <td>0.278379</td>\n",
       "      <td>0.404772</td>\n",
       "      <td>0.400929</td>\n",
       "      <td>-0.322911</td>\n",
       "      <td>0.093234</td>\n",
       "      <td>0.694564</td>\n",
       "      <td>0.972151</td>\n",
       "      <td>1.000000</td>\n",
       "    </tr>\n",
       "  </tbody>\n",
       "</table>\n",
       "</div>"
      ],
      "text/plain": [
       "             instant      temp     atemp       hum  windspeed    casual  \\\n",
       "instant     1.000000  0.136178  0.137615  0.009577  -0.074505  0.158295   \n",
       "temp        0.136178  1.000000  0.987672 -0.069881  -0.023125  0.459616   \n",
       "atemp       0.137615  0.987672  1.000000 -0.051918  -0.062336  0.454080   \n",
       "hum         0.009577 -0.069881 -0.051918  1.000000  -0.290105 -0.347028   \n",
       "windspeed  -0.074505 -0.023125 -0.062336 -0.290105   1.000000  0.090287   \n",
       "casual      0.158295  0.459616  0.454080 -0.347028   0.090287  1.000000   \n",
       "registered  0.282046  0.335361  0.332559 -0.273933   0.082321  0.506618   \n",
       "cnt         0.278379  0.404772  0.400929 -0.322911   0.093234  0.694564   \n",
       "\n",
       "            registered       cnt  \n",
       "instant       0.282046  0.278379  \n",
       "temp          0.335361  0.404772  \n",
       "atemp         0.332559  0.400929  \n",
       "hum          -0.273933 -0.322911  \n",
       "windspeed     0.082321  0.093234  \n",
       "casual        0.506618  0.694564  \n",
       "registered    1.000000  0.972151  \n",
       "cnt           0.972151  1.000000  "
      ]
     },
     "execution_count": 12,
     "metadata": {},
     "output_type": "execute_result"
    }
   ],
   "source": [
    "# Implement and graph a correlation matrix with the numeric features\n",
    "bike_share_nums.corr()"
   ]
  },
  {
   "cell_type": "code",
   "execution_count": 13,
   "id": "a4041aef-f80c-493c-984c-8149d416b772",
   "metadata": {},
   "outputs": [
    {
     "data": {
      "text/plain": [
       "<Axes: >"
      ]
     },
     "execution_count": 13,
     "metadata": {},
     "output_type": "execute_result"
    },
    {
     "data": {
      "image/png": "[encoded data removed]",
      "text/plain": [
       "<Figure size 640x480 with 2 Axes>"
      ]
     },
     "metadata": {},
     "output_type": "display_data"
    }
   ],
   "source": [
    "sns.heatmap(bike_share_nums.corr(), vmin=-1, vmax=1, annot=True)"
   ]
  },
  {
   "cell_type": "markdown",
   "id": "9737ea59-4a60-4101-b445-1ed18e69b739",
   "metadata": {},
   "source": [
    "All of the weather paramters - temperature, humidty, and windspeed - are negative correlated with each other.  The biggest positive correlation with bike rentals is temperature, so higher temperatures mean more bike rentals.  The biggest negative correlation is with humidty, meaning less bike rentals as humidity increases."
   ]
  },
  {
   "cell_type": "code",
   "execution_count": 14,
   "id": "dda85d83-741d-4890-9728-5c2dd41bb91f",
   "metadata": {},
   "outputs": [],
   "source": [
    "# Scale the numerical features using StandardScaler(), and replace the original columns in your dataframe.\n",
    "# from sklearn.preprocessing import StandardScaler\n",
    "\n",
    "# scaler = StandardScaler()\n",
    "# scaled_nums = pd.DataFrame(scaler.fit_transform(bike_share_nums))\n",
    "# bike_share[bike_share_nums.columns] = scaled_nums"
   ]
  },
  {
   "cell_type": "markdown",
   "id": "118bdbe5-39cb-46aa-a778-bc3ac81c52c4",
   "metadata": {},
   "source": [
    "It doens't make sense to scale the numerical data as the temperature values are already normalized and the rental counts don't need to be scaled since they are the target values.  Above is the code that would replace the original data with scaled data if it were necessary.\n"
   ]
  },
  {
   "cell_type": "code",
   "execution_count": 15,
   "id": "c4c410fb-27cb-4a45-9ea1-204fb567263c",
   "metadata": {},
   "outputs": [],
   "source": [
    "# Drop the following columns from the dataset: casual, registered, dteday, instant\n",
    "bike_share.drop(columns=['casual', 'registered', 'dteday', 'instant'], inplace=True)"
   ]
  },
  {
   "cell_type": "code",
   "execution_count": 16,
   "id": "3f4dcf96-047e-40f1-bd06-89940380f521",
   "metadata": {},
   "outputs": [
    {
     "data": {
      "text/plain": [
       "<Axes: xlabel='cnt', ylabel='Count'>"
      ]
     },
     "execution_count": 16,
     "metadata": {},
     "output_type": "execute_result"
    },
    {
     "data": {
      "image/png": "[encoded data removed]",
      "text/plain": [
       "<Figure size 640x480 with 1 Axes>"
      ]
     },
     "metadata": {},
     "output_type": "display_data"
    }
   ],
   "source": [
    "# Implement a histogram of the count column\n",
    "sns.histplot(bike_share, x='cnt')"
   ]
  },
  {
   "cell_type": "markdown",
   "id": "8d6f3fc6-0f40-49ba-80d0-2e2b7709cc1b",
   "metadata": {},
   "source": [
    "The distribution of count is very right skewed - most of the values are 0 or close to 0 and it tapers off from there.  The distribution resembles an exponential decay."
   ]
  },
  {
   "cell_type": "code",
   "execution_count": 17,
   "id": "a1fbaf02-3827-49ba-9f12-de7f63f1ffe2",
   "metadata": {},
   "outputs": [],
   "source": [
    "# Implement a train/test split with a test size of 33%\n",
    "from sklearn.model_selection import train_test_split\n",
    "\n",
    "target = bike_share['cnt']\n",
    "bike_share.drop(columns='cnt', inplace=True)\n",
    "X_train, X_test, y_train, y_test = train_test_split(bike_share, target, test_size=.33, random_state=0)"
   ]
  },
  {
   "cell_type": "code",
   "execution_count": 18,
   "id": "ad734487-9de7-4367-829a-7101f49f8fb0",
   "metadata": {},
   "outputs": [
    {
     "data": {
      "text/html": [
       "<div>\n",
       "<style scoped>\n",
       "    .dataframe tbody tr th:only-of-type {\n",
       "        vertical-align: middle;\n",
       "    }\n",
       "\n",
       "    .dataframe tbody tr th {\n",
       "        vertical-align: top;\n",
       "    }\n",
       "\n",
       "    .dataframe thead th {\n",
       "        text-align: right;\n",
       "    }\n",
       "</style>\n",
       "<table border=\"1\" class=\"dataframe\">\n",
       "  <thead>\n",
       "    <tr style=\"text-align: right;\">\n",
       "      <th></th>\n",
       "      <th>season</th>\n",
       "      <th>yr</th>\n",
       "      <th>mnth</th>\n",
       "      <th>hr</th>\n",
       "      <th>holiday</th>\n",
       "      <th>weekday</th>\n",
       "      <th>workingday</th>\n",
       "      <th>weathersit</th>\n",
       "      <th>temp</th>\n",
       "      <th>atemp</th>\n",
       "      <th>hum</th>\n",
       "      <th>windspeed</th>\n",
       "    </tr>\n",
       "  </thead>\n",
       "  <tbody>\n",
       "    <tr>\n",
       "      <th>9271</th>\n",
       "      <td>1</td>\n",
       "      <td>1</td>\n",
       "      <td>1</td>\n",
       "      <td>5</td>\n",
       "      <td>False</td>\n",
       "      <td>5</td>\n",
       "      <td>True</td>\n",
       "      <td>2</td>\n",
       "      <td>0.42</td>\n",
       "      <td>0.4242</td>\n",
       "      <td>0.94</td>\n",
       "      <td>0.3284</td>\n",
       "    </tr>\n",
       "    <tr>\n",
       "      <th>6651</th>\n",
       "      <td>4</td>\n",
       "      <td>0</td>\n",
       "      <td>10</td>\n",
       "      <td>17</td>\n",
       "      <td>False</td>\n",
       "      <td>0</td>\n",
       "      <td>False</td>\n",
       "      <td>1</td>\n",
       "      <td>0.62</td>\n",
       "      <td>0.6061</td>\n",
       "      <td>0.61</td>\n",
       "      <td>0.1045</td>\n",
       "    </tr>\n",
       "    <tr>\n",
       "      <th>6496</th>\n",
       "      <td>4</td>\n",
       "      <td>0</td>\n",
       "      <td>10</td>\n",
       "      <td>6</td>\n",
       "      <td>False</td>\n",
       "      <td>1</td>\n",
       "      <td>True</td>\n",
       "      <td>2</td>\n",
       "      <td>0.36</td>\n",
       "      <td>0.3788</td>\n",
       "      <td>0.71</td>\n",
       "      <td>0.0000</td>\n",
       "    </tr>\n",
       "    <tr>\n",
       "      <th>12808</th>\n",
       "      <td>3</td>\n",
       "      <td>1</td>\n",
       "      <td>6</td>\n",
       "      <td>21</td>\n",
       "      <td>False</td>\n",
       "      <td>5</td>\n",
       "      <td>True</td>\n",
       "      <td>3</td>\n",
       "      <td>0.68</td>\n",
       "      <td>0.6364</td>\n",
       "      <td>0.65</td>\n",
       "      <td>0.2836</td>\n",
       "    </tr>\n",
       "    <tr>\n",
       "      <th>67</th>\n",
       "      <td>1</td>\n",
       "      <td>0</td>\n",
       "      <td>1</td>\n",
       "      <td>22</td>\n",
       "      <td>False</td>\n",
       "      <td>1</td>\n",
       "      <td>True</td>\n",
       "      <td>1</td>\n",
       "      <td>0.14</td>\n",
       "      <td>0.1515</td>\n",
       "      <td>0.69</td>\n",
       "      <td>0.1343</td>\n",
       "    </tr>\n",
       "    <tr>\n",
       "      <th>...</th>\n",
       "      <td>...</td>\n",
       "      <td>...</td>\n",
       "      <td>...</td>\n",
       "      <td>...</td>\n",
       "      <td>...</td>\n",
       "      <td>...</td>\n",
       "      <td>...</td>\n",
       "      <td>...</td>\n",
       "      <td>...</td>\n",
       "      <td>...</td>\n",
       "      <td>...</td>\n",
       "      <td>...</td>\n",
       "    </tr>\n",
       "    <tr>\n",
       "      <th>9225</th>\n",
       "      <td>1</td>\n",
       "      <td>1</td>\n",
       "      <td>1</td>\n",
       "      <td>7</td>\n",
       "      <td>False</td>\n",
       "      <td>3</td>\n",
       "      <td>True</td>\n",
       "      <td>1</td>\n",
       "      <td>0.24</td>\n",
       "      <td>0.2273</td>\n",
       "      <td>0.75</td>\n",
       "      <td>0.2239</td>\n",
       "    </tr>\n",
       "    <tr>\n",
       "      <th>13123</th>\n",
       "      <td>3</td>\n",
       "      <td>1</td>\n",
       "      <td>7</td>\n",
       "      <td>0</td>\n",
       "      <td>False</td>\n",
       "      <td>5</td>\n",
       "      <td>True</td>\n",
       "      <td>1</td>\n",
       "      <td>0.78</td>\n",
       "      <td>0.7424</td>\n",
       "      <td>0.62</td>\n",
       "      <td>0.1343</td>\n",
       "    </tr>\n",
       "    <tr>\n",
       "      <th>9845</th>\n",
       "      <td>1</td>\n",
       "      <td>1</td>\n",
       "      <td>2</td>\n",
       "      <td>5</td>\n",
       "      <td>True</td>\n",
       "      <td>1</td>\n",
       "      <td>False</td>\n",
       "      <td>2</td>\n",
       "      <td>0.24</td>\n",
       "      <td>0.2121</td>\n",
       "      <td>0.60</td>\n",
       "      <td>0.3582</td>\n",
       "    </tr>\n",
       "    <tr>\n",
       "      <th>10799</th>\n",
       "      <td>2</td>\n",
       "      <td>1</td>\n",
       "      <td>3</td>\n",
       "      <td>2</td>\n",
       "      <td>False</td>\n",
       "      <td>6</td>\n",
       "      <td>False</td>\n",
       "      <td>2</td>\n",
       "      <td>0.42</td>\n",
       "      <td>0.4242</td>\n",
       "      <td>0.77</td>\n",
       "      <td>0.2537</td>\n",
       "    </tr>\n",
       "    <tr>\n",
       "      <th>2732</th>\n",
       "      <td>2</td>\n",
       "      <td>0</td>\n",
       "      <td>4</td>\n",
       "      <td>18</td>\n",
       "      <td>False</td>\n",
       "      <td>4</td>\n",
       "      <td>True</td>\n",
       "      <td>1</td>\n",
       "      <td>0.64</td>\n",
       "      <td>0.6212</td>\n",
       "      <td>0.47</td>\n",
       "      <td>0.3582</td>\n",
       "    </tr>\n",
       "  </tbody>\n",
       "</table>\n",
       "<p>11643 rows × 12 columns</p>\n",
       "</div>"
      ],
      "text/plain": [
       "      season yr mnth  hr  holiday weekday  workingday weathersit  temp  \\\n",
       "9271       1  1    1   5    False       5        True          2  0.42   \n",
       "6651       4  0   10  17    False       0       False          1  0.62   \n",
       "6496       4  0   10   6    False       1        True          2  0.36   \n",
       "12808      3  1    6  21    False       5        True          3  0.68   \n",
       "67         1  0    1  22    False       1        True          1  0.14   \n",
       "...      ... ..  ...  ..      ...     ...         ...        ...   ...   \n",
       "9225       1  1    1   7    False       3        True          1  0.24   \n",
       "13123      3  1    7   0    False       5        True          1  0.78   \n",
       "9845       1  1    2   5     True       1       False          2  0.24   \n",
       "10799      2  1    3   2    False       6       False          2  0.42   \n",
       "2732       2  0    4  18    False       4        True          1  0.64   \n",
       "\n",
       "        atemp   hum  windspeed  \n",
       "9271   0.4242  0.94     0.3284  \n",
       "6651   0.6061  0.61     0.1045  \n",
       "6496   0.3788  0.71     0.0000  \n",
       "12808  0.6364  0.65     0.2836  \n",
       "67     0.1515  0.69     0.1343  \n",
       "...       ...   ...        ...  \n",
       "9225   0.2273  0.75     0.2239  \n",
       "13123  0.7424  0.62     0.1343  \n",
       "9845   0.2121  0.60     0.3582  \n",
       "10799  0.4242  0.77     0.2537  \n",
       "2732   0.6212  0.47     0.3582  \n",
       "\n",
       "[11643 rows x 12 columns]"
      ]
     },
     "execution_count": 18,
     "metadata": {},
     "output_type": "execute_result"
    }
   ],
   "source": [
    "X_train"
   ]
  },
  {
   "cell_type": "code",
   "execution_count": 19,
   "id": "559f07fe-6dd8-4b73-a6e7-47ba0464694d",
   "metadata": {},
   "outputs": [
    {
     "data": {
      "text/html": [
       "<style>#sk-container-id-1 {color: black;}#sk-container-id-1 pre{padding: 0;}#sk-container-id-1 div.sk-toggleable {background-color: white;}#sk-container-id-1 label.sk-toggleable__label {cursor: pointer;display: block;width: 100%;margin-bottom: 0;padding: 0.3em;box-sizing: border-box;text-align: center;}#sk-container-id-1 label.sk-toggleable__label-arrow:before {content: \"▸\";float: left;margin-right: 0.25em;color: #696969;}#sk-container-id-1 label.sk-toggleable__label-arrow:hover:before {color: black;}#sk-container-id-1 div.sk-estimator:hover label.sk-toggleable__label-arrow:before {color: black;}#sk-container-id-1 div.sk-toggleable__content {max-height: 0;max-width: 0;overflow: hidden;text-align: left;background-color: #f0f8ff;}#sk-container-id-1 div.sk-toggleable__content pre {margin: 0.2em;color: black;border-radius: 0.25em;background-color: #f0f8ff;}#sk-container-id-1 input.sk-toggleable__control:checked~div.sk-toggleable__content {max-height: 200px;max-width: 100%;overflow: auto;}#sk-container-id-1 input.sk-toggleable__control:checked~label.sk-toggleable__label-arrow:before {content: \"▾\";}#sk-container-id-1 div.sk-estimator input.sk-toggleable__control:checked~label.sk-toggleable__label {background-color: #d4ebff;}#sk-container-id-1 div.sk-label input.sk-toggleable__control:checked~label.sk-toggleable__label {background-color: #d4ebff;}#sk-container-id-1 input.sk-hidden--visually {border: 0;clip: rect(1px 1px 1px 1px);clip: rect(1px, 1px, 1px, 1px);height: 1px;margin: -1px;overflow: hidden;padding: 0;position: absolute;width: 1px;}#sk-container-id-1 div.sk-estimator {font-family: monospace;background-color: #f0f8ff;border: 1px dotted black;border-radius: 0.25em;box-sizing: border-box;margin-bottom: 0.5em;}#sk-container-id-1 div.sk-estimator:hover {background-color: #d4ebff;}#sk-container-id-1 div.sk-parallel-item::after {content: \"\";width: 100%;border-bottom: 1px solid gray;flex-grow: 1;}#sk-container-id-1 div.sk-label:hover label.sk-toggleable__label {background-color: #d4ebff;}#sk-container-id-1 div.sk-serial::before {content: \"\";position: absolute;border-left: 1px solid gray;box-sizing: border-box;top: 0;bottom: 0;left: 50%;z-index: 0;}#sk-container-id-1 div.sk-serial {display: flex;flex-direction: column;align-items: center;background-color: white;padding-right: 0.2em;padding-left: 0.2em;position: relative;}#sk-container-id-1 div.sk-item {position: relative;z-index: 1;}#sk-container-id-1 div.sk-parallel {display: flex;align-items: stretch;justify-content: center;background-color: white;position: relative;}#sk-container-id-1 div.sk-item::before, #sk-container-id-1 div.sk-parallel-item::before {content: \"\";position: absolute;border-left: 1px solid gray;box-sizing: border-box;top: 0;bottom: 0;left: 50%;z-index: -1;}#sk-container-id-1 div.sk-parallel-item {display: flex;flex-direction: column;z-index: 1;position: relative;background-color: white;}#sk-container-id-1 div.sk-parallel-item:first-child::after {align-self: flex-end;width: 50%;}#sk-container-id-1 div.sk-parallel-item:last-child::after {align-self: flex-start;width: 50%;}#sk-container-id-1 div.sk-parallel-item:only-child::after {width: 0;}#sk-container-id-1 div.sk-dashed-wrapped {border: 1px dashed gray;margin: 0 0.4em 0.5em 0.4em;box-sizing: border-box;padding-bottom: 0.4em;background-color: white;}#sk-container-id-1 div.sk-label label {font-family: monospace;font-weight: bold;display: inline-block;line-height: 1.2em;}#sk-container-id-1 div.sk-label-container {text-align: center;}#sk-container-id-1 div.sk-container {/* jupyter's `normalize.less` sets `[hidden] { display: none; }` but bootstrap.min.css set `[hidden] { display: none !important; }` so we also need the `!important` here to be able to override the default hidden behavior on the sphinx rendered scikit-learn.org. See: https://github.com/scikit-learn/scikit-learn/issues/21755 */display: inline-block !important;position: relative;}#sk-container-id-1 div.sk-text-repr-fallback {display: none;}</style><div id=\"sk-container-id-1\" class=\"sk-top-container\"><div class=\"sk-text-repr-fallback\"><pre>LinearRegression()</pre><b>In a Jupyter environment, please rerun this cell to show the HTML representation or trust the notebook. <br />On GitHub, the HTML representation is unable to render, please try loading this page with nbviewer.org.</b></div><div class=\"sk-container\" hidden><div class=\"sk-item\"><div class=\"sk-estimator sk-toggleable\"><input class=\"sk-toggleable__control sk-hidden--visually\" id=\"sk-estimator-id-1\" type=\"checkbox\" checked><label for=\"sk-estimator-id-1\" class=\"sk-toggleable__label sk-toggleable__label-arrow\">LinearRegression</label><div class=\"sk-toggleable__content\"><pre>LinearRegression()</pre></div></div></div></div></div>"
      ],
      "text/plain": [
       "LinearRegression()"
      ]
     },
     "execution_count": 19,
     "metadata": {},
     "output_type": "execute_result"
    }
   ],
   "source": [
    "# Implement a baseline linear regression algorithm. Use cross-validation to output r2 and mse. Calculate RMSE base on mse.\n",
    "from sklearn.model_selection import cross_val_score\n",
    "from sklearn.linear_model import LinearRegression\n",
    "\n",
    "lin_reg = LinearRegression()\n",
    "lin_reg.fit(X_train, y_train)"
   ]
  },
  {
   "cell_type": "code",
   "execution_count": 20,
   "id": "aaafa5b4-db9d-4ae6-bab8-0f3980d7f676",
   "metadata": {},
   "outputs": [
    {
     "name": "stdout",
     "output_type": "stream",
     "text": [
      "RMSE:  [140.82986037 142.38827425 143.17525738 144.80160386 140.22767564] Average:  142.2845342997129\n",
      "R2 Score:  [0.38715312 0.38729955 0.38336996 0.37076991 0.38790142] Average:  0.38329879251550747\n"
     ]
    }
   ],
   "source": [
    "rmse = np.sqrt(-cross_val_score(lin_reg, X_train, y_train, scoring='neg_mean_squared_error'))\n",
    "r2 = cross_val_score(lin_reg, X_train, y_train, scoring='r2')\n",
    "\n",
    "print(\"RMSE: \", rmse, \"Average: \", rmse.mean())\n",
    "print(\"R2 Score: \", r2, \"Average: \", r2.mean())"
   ]
  },
  {
   "cell_type": "markdown",
   "id": "6d782637-2580-44c1-96c3-a960f4fa55ab",
   "metadata": {},
   "source": [
    "### Part 3\n",
    "\n",
    "Model Training\n",
    "\n",
    "- Create one-hot-encoded values for your categorical columns using get_dummies and add them to your source dataset.\n",
    "- Drop the original categorical columns from your source dataset.\n",
    "- Do a test/train split based on your new source dataset. Implement and fit a new linear model on your new training set.\n",
    "- What are the new values for r2, mse, and rmse?\n",
    "- Implement and score a decision tree regressor with random_state=0.\n",
    "- Implement and score a RandomForestRegressor with random_state=0 and n_esitmators=30.\n",
    "- Implement and score an SGDRegressor with max_iter=1000 and tol=1e-3).\n",
    "- Implement and score a Lasso Regressor with alpha=0.1.\n",
    "- Implement and score an ElasticNet Regressor with random_state=0.\n",
    "- Implement and score a Ridge Regressor with alpha=0.5.\n",
    "- Implement and score a BaggingRegressor"
   ]
  },
  {
   "cell_type": "code",
   "execution_count": 21,
   "id": "6fad1474-4c18-45bd-aca2-022f4edd89ac",
   "metadata": {},
   "outputs": [],
   "source": [
    "# Defining a function to fit and score different models using cross validation\n",
    "def fit_and_score_model(model, X, y):\n",
    "    rmse = np.sqrt(-cross_val_score(model, X, y, scoring='neg_mean_squared_error'))\n",
    "    r2 = cross_val_score(model, X, y, scoring='r2')\n",
    "\n",
    "    print(\"RMSE: \", rmse, \"Average: \", rmse.mean())\n",
    "    print(\"R2 Score: \", r2, \"Average: \", r2.mean())"
   ]
  },
  {
   "cell_type": "code",
   "execution_count": 22,
   "id": "e493b4c0-75d4-43b4-8b7b-4a994aecb0c5",
   "metadata": {},
   "outputs": [
    {
     "name": "stdout",
     "output_type": "stream",
     "text": [
      "RMSE:  [100.4005626  100.7682368  103.88662935 103.27219005  99.9121132 ] Average:  101.64794640098009\n",
      "R2 Score:  [0.68851669 0.69313521 0.6753555  0.67994139 0.68926499] Average:  0.6852427570297925\n"
     ]
    }
   ],
   "source": [
    "# Create one-hot-encoded values for your categorical columns using get_dummies and drop original categorical features\n",
    "bike_share = pd.get_dummies(bike_share, columns=['season', 'yr', 'mnth', 'hr', 'weekday', 'weathersit'])\n",
    "\n",
    "# Do a test/train split implement and fit a new linear model on your new training set.\n",
    "X_train, X_test, y_train, y_test = train_test_split(bike_share, target, test_size=0.33, random_state=0)\n",
    "lin_reg.fit(X_train, y_train)\n",
    "\n",
    "# New values for RMSE and R2\n",
    "fit_and_score_model(lin_reg, X_train, y_train)"
   ]
  },
  {
   "cell_type": "markdown",
   "id": "25dd9950-8200-4cb7-8218-fb04b77b3435",
   "metadata": {},
   "source": [
    "The RMSE and R2 Score of the encoded model is much improved over the previous one.  The average RMSE decreased from 142 to 102, and the R2 score increased from 0.38 to 0.68."
   ]
  },
  {
   "cell_type": "code",
   "execution_count": 23,
   "id": "00cf47a8-fe0e-4b40-981f-5c2e083e9375",
   "metadata": {},
   "outputs": [
    {
     "name": "stdout",
     "output_type": "stream",
     "text": [
      "RMSE:  [75.41913512 78.72722227 77.06256554 76.15074239 76.30833355] Average:  76.73359977589617\n",
      "R2 Score:  [0.82423776 0.8126949  0.82136125 0.82597525 0.81874173] Average:  0.8206021781040398\n"
     ]
    }
   ],
   "source": [
    "# Implement and score a decision tree regressor\n",
    "from sklearn.tree import DecisionTreeRegressor\n",
    "\n",
    "tree_reg = DecisionTreeRegressor(random_state=0)\n",
    "fit_and_score_model(tree_reg, X_train, y_train)"
   ]
  },
  {
   "cell_type": "markdown",
   "id": "c85c5796-cbc0-45ec-9824-7923a9fc8eea",
   "metadata": {},
   "source": [
    "The decision tree performs better than the linear regressor with a lower RMSE and higher R2 score."
   ]
  },
  {
   "cell_type": "code",
   "execution_count": 24,
   "id": "641f2627-9ceb-4cf4-bafe-93773fcac1a3",
   "metadata": {},
   "outputs": [
    {
     "name": "stdout",
     "output_type": "stream",
     "text": [
      "RMSE:  [53.97684469 53.80275023 53.91431342 57.99527102 54.7763343 ] Average:  54.89310273021815\n",
      "R2 Score:  [0.90997203 0.91252002 0.91256267 0.89906358 0.90660152] Average:  0.9081439612532506\n"
     ]
    }
   ],
   "source": [
    "# Implement a random forest regressor\n",
    "from sklearn.ensemble import RandomForestRegressor\n",
    "\n",
    "forest_reg = RandomForestRegressor(random_state=0, n_estimators=30)\n",
    "fit_and_score_model(forest_reg, X_train, y_train)"
   ]
  },
  {
   "cell_type": "markdown",
   "id": "3146cebc-c445-48e5-9388-619fca855d06",
   "metadata": {},
   "source": [
    "The random forest regressor is even better than the decision tree, further improving on the RMSE and R2 score."
   ]
  },
  {
   "cell_type": "code",
   "execution_count": 25,
   "id": "58d65eb1-3685-40aa-8767-4d91baac8152",
   "metadata": {},
   "outputs": [
    {
     "name": "stdout",
     "output_type": "stream",
     "text": [
      "RMSE:  [100.36688013 100.51323192 104.04087322 103.30206121  99.96504954] Average:  101.63761920329831\n",
      "R2 Score:  [0.68872565 0.69468635 0.67439077 0.67975622 0.68893563] Average:  0.6852989224394916\n"
     ]
    }
   ],
   "source": [
    "# Implement an SGD Regressor\n",
    "from sklearn.linear_model import SGDRegressor\n",
    "\n",
    "sgd_reg = SGDRegressor(max_iter=1000, tol=0.001, random_state=0)\n",
    "fit_and_score_model(sgd_reg, X_train, y_train)"
   ]
  },
  {
   "cell_type": "markdown",
   "id": "e9d56304-3b84-4362-8bac-799c605ee760",
   "metadata": {},
   "source": [
    "The SGD Regressor performs on par with the linear regressor."
   ]
  },
  {
   "cell_type": "code",
   "execution_count": 26,
   "id": "95d89c23-4ba0-471f-9d17-2d2695b71e87",
   "metadata": {},
   "outputs": [
    {
     "name": "stdout",
     "output_type": "stream",
     "text": [
      "RMSE:  [100.51710416 100.50391653 104.09423048 103.29184527  99.92708799] Average:  101.66683688565244\n",
      "R2 Score:  [0.68779316 0.69474294 0.6740567  0.67981955 0.68917184] Average:  0.6851168374265022\n"
     ]
    }
   ],
   "source": [
    "# Implement and score a Lasso Regressor\n",
    "from sklearn.linear_model import Lasso\n",
    "\n",
    "lasso_reg = Lasso(alpha=0.1, random_state=0)\n",
    "fit_and_score_model(lasso_reg, X_train, y_train)"
   ]
  },
  {
   "cell_type": "markdown",
   "id": "b1579748-7403-4cbe-bc52-e269a08b7fa5",
   "metadata": {},
   "source": [
    "The lasso regressor also performs on par with the linear regressor"
   ]
  },
  {
   "cell_type": "code",
   "execution_count": 27,
   "id": "9b8f3a03-82a3-4877-b99e-9a68d42d3456",
   "metadata": {},
   "outputs": [
    {
     "name": "stdout",
     "output_type": "stream",
     "text": [
      "RMSE:  [161.02850444 163.44060907 164.09799974 164.27572276 160.94233411] Average:  162.75703402465768\n",
      "R2 Score:  [0.19875007 0.19272838 0.1899808  0.19014082 0.19370403] Average:  0.19306082006059583\n"
     ]
    }
   ],
   "source": [
    "# Implement and score an Elastic Net regressor\n",
    "from sklearn.linear_model import ElasticNet\n",
    "\n",
    "enet_reg = ElasticNet(random_state=0)\n",
    "fit_and_score_model(enet_reg, X_train, y_train)"
   ]
  },
  {
   "cell_type": "markdown",
   "id": "2c90b7c3-fcd9-4fd4-b652-f99ffffa1a6e",
   "metadata": {},
   "source": [
    "The Elastic Net model has performed the worst so far."
   ]
  },
  {
   "cell_type": "code",
   "execution_count": 28,
   "id": "744ba1ef-95b4-484f-8cab-0e08af26c542",
   "metadata": {},
   "outputs": [
    {
     "name": "stdout",
     "output_type": "stream",
     "text": [
      "RMSE:  [100.47781157 100.5129763  103.88586304 103.27432195  99.92172439] Average:  101.61453944969965\n",
      "R2 Score:  [0.68803719 0.6946879  0.67536029 0.67992818 0.6892052 ] Average:  0.685443754194723\n"
     ]
    }
   ],
   "source": [
    "# Implement and score a Ridge Regressor\n",
    "from sklearn.linear_model import Ridge\n",
    "\n",
    "ridge_reg = Ridge(alpha=0.5, random_state=0)\n",
    "fit_and_score_model(ridge_reg, X_train, y_train)"
   ]
  },
  {
   "cell_type": "markdown",
   "id": "20702f09-e4a6-4ba8-bc6e-0e86bdbeb4b9",
   "metadata": {},
   "source": [
    "The Ridge regressor performs on par with the linear, lasso, and SGD regressors."
   ]
  },
  {
   "cell_type": "code",
   "execution_count": 29,
   "id": "9d73f5e7-008a-4087-ab79-7869d448c730",
   "metadata": {},
   "outputs": [
    {
     "name": "stdout",
     "output_type": "stream",
     "text": [
      "RMSE:  [55.80137833 57.32415954 56.39846754 59.88961502 57.87666711] Average:  57.458057507339184\n",
      "R2 Score:  [0.90378288 0.90069408 0.90431952 0.89236196 0.89572963] Average:  0.8993776145016946\n"
     ]
    }
   ],
   "source": [
    "# Implement and score a Bagging Regressor\n",
    "from sklearn.ensemble import BaggingRegressor\n",
    "\n",
    "bag_reg = BaggingRegressor(random_state=0)\n",
    "fit_and_score_model(bag_reg, X_train, y_train)"
   ]
  },
  {
   "cell_type": "markdown",
   "id": "f70b4940-59ba-4e90-9362-8b3f3aa19f38",
   "metadata": {},
   "source": [
    "The Bagging Regressor is the second best performing model, next to the Random Forest Regressor."
   ]
  },
  {
   "cell_type": "markdown",
   "id": "0e33fc7b-1be6-4394-ad82-4ac5c7b9ffe0",
   "metadata": {},
   "source": [
    "### Part 4. Model Tuning\n",
    "\n",
    "- Take the top three performing models and implement cross-validation on them.\n",
    "- Take your top performing model and do a randomize search cv with 20 iterations and three folds with the following parameters.\n",
    "    - Bootstrap: true, false\n",
    "    - Max_depth: 10-110, number of bins 11\n",
    "    - Max_features: auto, sqrt\n",
    "    - Min_samples_split: 2,5,10\n",
    "    - Min_samples_leaf: 1,2,4\n",
    "    - N_estimators: 200 – 2000, number of bins 10\n",
    "- Take your best_estimator_ and see how it compares by doing cross_vals for r2, mse, and calculating rmse.\n",
    "- Finally, run predictions on your test set with this model, and see how your r2 score and RMSE look."
   ]
  },
  {
   "cell_type": "code",
   "execution_count": 30,
   "id": "e6da8c09-adc6-47c6-adf1-0b15d2d7dad7",
   "metadata": {},
   "outputs": [
    {
     "data": {
      "text/plain": [
       "{'fit_time': array([0.10291219, 0.09460402, 0.09462595, 0.09724092, 0.09591007]),\n",
       " 'score_time': array([0.00397992, 0.00261188, 0.00301886, 0.00328302, 0.00328898]),\n",
       " 'test_score': array([0.82423776, 0.8126949 , 0.82136125, 0.82597525, 0.81874173])}"
      ]
     },
     "execution_count": 30,
     "metadata": {},
     "output_type": "execute_result"
    }
   ],
   "source": [
    "# Cross validation was already performed on each of the models above.  Repeating it here with cross_validate for the top 3 models\n",
    "from sklearn.model_selection import cross_validate\n",
    "cross_validate(tree_reg, X_train, y_train)"
   ]
  },
  {
   "cell_type": "code",
   "execution_count": 31,
   "id": "dadeb684-6778-4f0b-9374-6bfcb3cd91f7",
   "metadata": {},
   "outputs": [
    {
     "data": {
      "text/plain": [
       "{'fit_time': array([1.90416884, 1.843678  , 1.86017799, 1.82170606, 1.81914878]),\n",
       " 'score_time': array([0.02412605, 0.0188899 , 0.02078724, 0.02099395, 0.0206871 ]),\n",
       " 'test_score': array([0.90997203, 0.91252002, 0.91256267, 0.89906358, 0.90660152])}"
      ]
     },
     "execution_count": 31,
     "metadata": {},
     "output_type": "execute_result"
    }
   ],
   "source": [
    "cross_validate(forest_reg, X_train, y_train)"
   ]
  },
  {
   "cell_type": "code",
   "execution_count": 32,
   "id": "23cec06e-e54f-48e6-8b58-81c9b82464c6",
   "metadata": {},
   "outputs": [
    {
     "data": {
      "text/plain": [
       "{'fit_time': array([0.64153481, 0.6474328 , 0.60970807, 0.61096978, 0.65311193]),\n",
       " 'score_time': array([0.01314425, 0.01414013, 0.01125598, 0.01272511, 0.0168581 ]),\n",
       " 'test_score': array([0.90378288, 0.90069408, 0.90431952, 0.89236196, 0.89572963])}"
      ]
     },
     "execution_count": 32,
     "metadata": {},
     "output_type": "execute_result"
    }
   ],
   "source": [
    "cross_validate(bag_reg, X_train, y_train)"
   ]
  },
  {
   "cell_type": "code",
   "execution_count": 34,
   "id": "f6d67d86-f986-40c3-a8eb-f0f90fb9b4d1",
   "metadata": {},
   "outputs": [
    {
     "data": {
      "text/plain": [
       "{'n_estimators': 1200,\n",
       " 'min_samples_split': 2,\n",
       " 'min_samples_leaf': 1,\n",
       " 'max_features': None,\n",
       " 'max_depth': 40,\n",
       " 'bootstrap': True}"
      ]
     },
     "execution_count": 34,
     "metadata": {},
     "output_type": "execute_result"
    }
   ],
   "source": [
    "# Randomized search CV with the top model\n",
    "from sklearn.model_selection import RandomizedSearchCV\n",
    "\n",
    "params = {\n",
    "    'bootstrap': [True, False],\n",
    "    'max_depth': np.linspace(10, 110, 11, dtype='int'),\n",
    "    'max_features': ['sqrt', None],\n",
    "    'min_samples_split': [2, 5, 10],\n",
    "    'min_samples_leaf': [1, 2, 4],\n",
    "    'n_estimators': np.linspace(200, 2000, 10, dtype='int'),\n",
    "}\n",
    "\n",
    "rand_search = RandomizedSearchCV(forest_reg, params, n_iter=20, cv=3, n_jobs=4)\n",
    "rand_search.fit(X_train, y_train)\n",
    "rand_search.best_params_"
   ]
  },
  {
   "cell_type": "code",
   "execution_count": 36,
   "id": "b7138323-df28-4ef8-a1ea-31a8da7dfff7",
   "metadata": {},
   "outputs": [
    {
     "name": "stdout",
     "output_type": "stream",
     "text": [
      "RMSE:  [52.76520671 52.53198555 53.05298485 55.91172984 53.38677528] Average:  53.5297364452277\n",
      "R2 Score:  [0.91396845 0.91660359 0.91533413 0.9061858  0.91128005] Average:  0.9126744018256266\n"
     ]
    }
   ],
   "source": [
    "best_model = rand_search.best_estimator_\n",
    "\n",
    "fit_and_score_model(best_model, X_train, y_train)"
   ]
  },
  {
   "cell_type": "code",
   "execution_count": 37,
   "id": "16d1fa4d-224e-4f4a-905c-d2f846105c70",
   "metadata": {},
   "outputs": [
    {
     "name": "stdout",
     "output_type": "stream",
     "text": [
      "RMSE:  52.03833854260479\n",
      "R2 Score:  0.9180180243364973\n"
     ]
    }
   ],
   "source": [
    "from sklearn.metrics import mean_squared_error, r2_score\n",
    "\n",
    "y_predict = best_model.predict(X_test)\n",
    "rmse = np.sqrt(mean_squared_error(y_test, y_predict))\n",
    "r2 = r2_score(y_test, y_predict)\n",
    "\n",
    "print(\"RMSE: \", rmse)\n",
    "print(\"R2 Score: \", r2)"
   ]
  },
  {
   "cell_type": "markdown",
   "id": "dcede8ef-fc7f-43a0-9595-8ab4c1aa78ed",
   "metadata": {},
   "source": [
    "The hypertuned model performed just slightly better than the original Random Forest Regressor in Part 3.  The model does seem to generalize well, as the RMSE and R2 score on the test data was the same as the training scores."
   ]
  }
 ],
 "metadata": {
  "kernelspec": {
   "display_name": "Python 3 (ipykernel)",
   "language": "python",
   "name": "python3"
  },
  "language_info": {
   "codemirror_mode": {
    "name": "ipython",
    "version": 3
   },
   "file_extension": ".py",
   "mimetype": "text/x-python",
   "name": "python",
   "nbconvert_exporter": "python",
   "pygments_lexer": "ipython3",
   "version": "3.11.2"
  }
 },
 "nbformat": 4,
 "nbformat_minor": 5
}
